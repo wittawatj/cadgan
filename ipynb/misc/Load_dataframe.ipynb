{
 "cells": [
  {
   "cell_type": "markdown",
   "metadata": {},
   "source": [
    "A notebook to test loading results from saved dataframe file"
   ]
  },
  {
   "cell_type": "code",
   "execution_count": null,
   "metadata": {},
   "outputs": [],
   "source": [
    "%matplotlib inline\n",
    "%load_ext autoreload\n",
    "%autoreload 2\n",
    "\n",
    "#%config InlineBackend.figure_format = 'svg'\n",
    "#%config InlineBackend.figure_format = 'pdf'"
   ]
  },
  {
   "cell_type": "code",
   "execution_count": null,
   "metadata": {},
   "outputs": [],
   "source": [
    "import matplotlib\n",
    "import matplotlib.pyplot as plt\n",
    "import pandas as pd\n",
    "import os\n",
    "import autograd.numpy as np\n",
    "import scipy.stats as stats\n",
    "import torch"
   ]
  },
  {
   "cell_type": "code",
   "execution_count": null,
   "metadata": {},
   "outputs": [],
   "source": [
    "import cadgan\n",
    "import cadgan.glo as glo\n",
    "import cadgan.imutil as imutil\n",
    "import cadgan.util as util"
   ]
  },
  {
   "cell_type": "markdown",
   "metadata": {},
   "source": [
    "## Load dataframe file"
   ]
  },
  {
   "cell_type": "markdown",
   "metadata": {},
   "source": [
    "These dataframe can be exported from the log output in export_dataframe.ipynb"
   ]
  },
  {
   "cell_type": "markdown",
   "metadata": {},
   "source": [
    "The following cell will download a large file."
   ]
  },
  {
   "cell_type": "code",
   "execution_count": null,
   "metadata": {},
   "outputs": [],
   "source": [
    "df_path = glo.share_path('dataframe_results','face_n1_vgglayers_lr')\n",
    "if not os.path.exists(df_path):\n",
    "    #As an example we can download the optimization results from one of the HD face model\n",
    "    from google_drive_downloader import GoogleDriveDownloader as gdd\n",
    "    gdd.download_file_from_google_drive(file_id='11aUoMb-3mBu7ay8irH8utvVz3KQymbMx',\n",
    "                                        dest_path=df_path)\n",
    "df = pd.read_pickle(df_path)"
   ]
  },
  {
   "cell_type": "markdown",
   "metadata": {},
   "source": [
    "## Display images in a dataframe"
   ]
  },
  {
   "cell_type": "code",
   "execution_count": null,
   "metadata": {},
   "outputs": [],
   "source": [
    "# https://www.kaggle.com/stassl/displaying-inline-images-in-pandas-dataframe\n",
    "import base64\n",
    "import io\n",
    "import PIL\n",
    "import IPython\n",
    "import skimage\n",
    "\n",
    "# def get_thumbnail(path):\n",
    "#     im = PIL.Image.open(path)\n",
    "#     im.thumbnail((150, 150), Image.LANCZOS)\n",
    "#     return im\n",
    "\n",
    "def image_base64(im, resize=128):\n",
    "    '''\n",
    "    im: a numpy array whose range is [0,1]\n",
    "    '''\n",
    "    with io.BytesIO() as buffer:\n",
    "        # resize\n",
    "        im = skimage.transform.resize(im, (resize, resize), mode='reflect', anti_aliasing=True)\n",
    "        \n",
    "        # convert the numpy array to a PIL image\n",
    "        pil_im = PIL.Image.fromarray(np.uint8(im*255))\n",
    "        pil_im.save(buffer, 'jpeg')\n",
    "        return base64.b64encode(buffer.getvalue()).decode()\n",
    "\n",
    "def images_formatter(imgs,col=2):\n",
    "    if len(imgs) < col:\n",
    "        html = u'<div class=\"df\">'\n",
    "    else:\n",
    "        html = u'<div class=\"df\" style=\"width: 400px\">'\n",
    "    for i in range(len(imgs)):\n",
    "        html += '<div class=\"imgs\" style=\"display: inline-block; width: 128px\">'\n",
    "        img64 = image_base64(imgs[i])\n",
    "#         print(img64)\n",
    "        img_tag = '<img src=\"data:image/jpeg;base64,{}\" >'.format(img64)\n",
    "#         img_tag = f'<img src=\"data:image/jpeg;base64,{img64}\">'\n",
    "        html += img_tag + ' </div> '\n",
    "    \n",
    "        if (i+1)%col == 0:\n",
    "            html += '<br>'\n",
    "#     print(html)\n",
    "    return html +'</div>'\n",
    "\n"
   ]
  },
  {
   "cell_type": "code",
   "execution_count": null,
   "metadata": {},
   "outputs": [],
   "source": [
    "df.columns.values"
   ]
  },
  {
   "cell_type": "code",
   "execution_count": null,
   "metadata": {},
   "outputs": [],
   "source": [
    "#filter parameters to show\n",
    "df = df[['cond_imgs','out_imgs','lr','extractor_layers','iteration','img_size','extractor_type','cond_path']] \n"
   ]
  },
  {
   "cell_type": "code",
   "execution_count": null,
   "metadata": {
    "scrolled": true
   },
   "outputs": [],
   "source": [
    "# dataframe to html\n",
    "pd.set_option('display.max_colwidth', -1)\n",
    "pd.set_option('display.max_columns', -1)\n",
    "html = df.to_html(formatters={'cond_imgs': images_formatter, 'out_imgs': images_formatter,'feat_imgs': images_formatter,'cond_feat': images_formatter}, escape=False)\n",
    "IPython.display.HTML(html)"
   ]
  },
  {
   "cell_type": "code",
   "execution_count": null,
   "metadata": {},
   "outputs": [],
   "source": [
    "#do some filtering based on parameters, you can google dataframe querying for a more advance usage\n",
    "df_final = df\n",
    "\n",
    "#filter from parameter value, can also use &\n",
    "df_final = df_final.loc[df_final['cond_path']=='/notebooks/psangkloy3/gdrive/condgan_share/face_train_list/files_n1_3.txt']\n",
    "df_final = df_final.loc[df_final['lr']=='0.05']\n",
    "df_final = df_final.loc[(df_final['extractor_layers']==\"['35']\") | (df_final['extractor_layers']==\"['17']\" )]\n"
   ]
  },
  {
   "cell_type": "code",
   "execution_count": null,
   "metadata": {
    "scrolled": false
   },
   "outputs": [],
   "source": [
    "# dataframe to html\n",
    "pd.set_option('display.max_colwidth', -1)\n",
    "pd.set_option('display.max_columns', -1)\n",
    "html = df_final.to_html(formatters={'cond_imgs': images_formatter, 'out_imgs': images_formatter,'feat_imgs': images_formatter,'cond_feat': images_formatter}, escape=False)\n",
    "IPython.display.HTML(html)"
   ]
  },
  {
   "cell_type": "code",
   "execution_count": null,
   "metadata": {},
   "outputs": [],
   "source": [
    "len(html)"
   ]
  },
  {
   "cell_type": "code",
   "execution_count": null,
   "metadata": {},
   "outputs": [],
   "source": [
    "#save results to html file\n",
    "with open('face_n1.html','w+') as f:\n",
    "    f.write(html)"
   ]
  },
  {
   "cell_type": "code",
   "execution_count": null,
   "metadata": {},
   "outputs": [],
   "source": []
  },
  {
   "cell_type": "code",
   "execution_count": null,
   "metadata": {},
   "outputs": [],
   "source": []
  },
  {
   "cell_type": "code",
   "execution_count": null,
   "metadata": {},
   "outputs": [],
   "source": []
  },
  {
   "cell_type": "code",
   "execution_count": null,
   "metadata": {},
   "outputs": [],
   "source": []
  },
  {
   "cell_type": "code",
   "execution_count": null,
   "metadata": {},
   "outputs": [],
   "source": []
  }
 ],
 "metadata": {
  "kernelspec": {
   "display_name": "Python 3",
   "language": "python",
   "name": "python3"
  },
  "language_info": {
   "codemirror_mode": {
    "name": "ipython",
    "version": 3
   },
   "file_extension": ".py",
   "mimetype": "text/x-python",
   "name": "python",
   "nbconvert_exporter": "python",
   "pygments_lexer": "ipython3",
   "version": "3.6.6"
  }
 },
 "nbformat": 4,
 "nbformat_minor": 2
}
