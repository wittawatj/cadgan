{
 "cells": [
  {
   "cell_type": "markdown",
   "metadata": {},
   "source": [
    "A notebook to process results of the compression task on CelebA where the input set contains three images, weighted in various ways."
   ]
  },
  {
   "cell_type": "code",
   "execution_count": null,
   "metadata": {},
   "outputs": [],
   "source": [
    "%matplotlib inline\n",
    "%load_ext autoreload\n",
    "%autoreload 2\n",
    "\n",
    "#%config InlineBackend.figure_format = 'svg'\n",
    "#%config InlineBackend.figure_format = 'pdf'"
   ]
  },
  {
   "cell_type": "code",
   "execution_count": null,
   "metadata": {},
   "outputs": [],
   "source": [
    "import cadgan\n",
    "import cadgan.kernel as kernel\n",
    "import cadgan.glo as glo\n",
    "import cadgan.main as main\n",
    "import cadgan.net.net as net\n",
    "import cadgan.gen as gen\n",
    "import cadgan.plot as plot\n",
    "import cadgan.embed as embed\n",
    "import cadgan.util as util\n",
    "\n",
    "import matplotlib\n",
    "import matplotlib.pyplot as plt\n",
    "import os\n",
    "import numpy as np\n",
    "import scipy.stats as stats\n",
    "import torch\n",
    "import torch.nn.functional as F\n",
    "import torch.nn as nn\n",
    "import torchvision\n",
    "import torchvision.transforms as transforms"
   ]
  },
  {
   "cell_type": "code",
   "execution_count": null,
   "metadata": {},
   "outputs": [],
   "source": [
    "# font options\n",
    "font = {\n",
    "    #'family' : 'normal',\n",
    "    #'weight' : 'bold',\n",
    "    'size'   : 18\n",
    "}\n",
    "\n",
    "plt.rc('font', **font)\n",
    "plt.rc('lines', linewidth=2)\n",
    "matplotlib.rcParams['pdf.fonttype'] = 42\n",
    "matplotlib.rcParams['ps.fonttype'] = 42"
   ]
  },
  {
   "cell_type": "code",
   "execution_count": null,
   "metadata": {},
   "outputs": [],
   "source": [
    "use_cuda = True and torch.cuda.is_available()\n",
    "device = torch.device(\"cuda\" if use_cuda else \"cpu\")\n",
    "tensor_type = torch.cuda.FloatTensor if use_cuda else torch.FloatTensor\n",
    "torch.set_default_tensor_type(tensor_type)"
   ]
  },
  {
   "cell_type": "markdown",
   "metadata": {},
   "source": [
    "## Plot results"
   ]
  },
  {
   "cell_type": "code",
   "execution_count": null,
   "metadata": {},
   "outputs": [],
   "source": [
    "case_name = 'interpolation_v5'\n",
    "# case_name = 'interpolation_v3'\n",
    "# case_name = 'interpolation_full'\n",
    "root_results_folder = glo.result_folder('3imgs_compression', 'interpolation_full', case_name)\n",
    "print(root_results_folder)\n",
    "if not os.path.exists(root_results_folder):\n",
    "    print('Path does not exist: {}'.format(root_results_folder))"
   ]
  },
  {
   "cell_type": "markdown",
   "metadata": {},
   "source": [
    "Get the input images"
   ]
  },
  {
   "cell_type": "code",
   "execution_count": null,
   "metadata": {
    "scrolled": true
   },
   "outputs": [],
   "source": [
    "import glob\n",
    "import skimage\n",
    "    \n",
    "def get_np_input_images(root_results_folder):\n",
    "    \"\"\"\n",
    "    Return a numpy stack of input images. \n",
    "    \"\"\"\n",
    "    subfolders = glob.glob(os.path.join(root_results_folder, 'face_interpolation_test_*'))\n",
    "    subfolder2 = glob.glob(subfolders[0] + '/*')\n",
    "    input_folder = os.path.join(subfolder2[0], 'input_images')\n",
    "    input_fpaths = glob.glob(input_folder + '/*')\n",
    "    # need to sort. glob.glob does not necessarily return a sorted list\n",
    "    arg = np.argsort([os.path.basename(fp) for fp in input_fpaths])\n",
    "    input_fpaths = [input_fpaths[i] for i in arg]\n",
    "    list_imgs = []\n",
    "    for img_fpath in input_fpaths:\n",
    "        img = skimage.io.imread(img_fpath)\n",
    "#         print(img.shape)\n",
    "        list_imgs.append(img)\n",
    "    return np.stack(list_imgs, axis=0)"
   ]
  },
  {
   "cell_type": "code",
   "execution_count": null,
   "metadata": {},
   "outputs": [],
   "source": [
    "import skimage\n",
    "in_imgs = get_np_input_images(root_results_folder)\n",
    "for i in range(in_imgs.shape[0]):\n",
    "    plt.figure()\n",
    "    plt.imshow(in_imgs[i])"
   ]
  },
  {
   "cell_type": "code",
   "execution_count": null,
   "metadata": {},
   "outputs": [],
   "source": [
    "import re\n",
    "def get_candidate_weights(root_results_folder):\n",
    "    \"\"\"\n",
    "    Return a numpy array of size n x 3 (of type string) where \n",
    "    n is the number of candidate input weight vectors. \n",
    "    \"\"\"\n",
    "    case_folders = glob.glob(os.path.join(root_results_folder, 'face_interpolation_test*'))\n",
    "    list_weights = []\n",
    "#     pat = r'(\\d+(\\.\\d+)?)_(\\d+(\\.\\d+)?)_(\\d(\\.\\d+)?)\\.sh'\n",
    "    pat = r'face_interpolation_test_(\\d+(\\.\\d+)?)_(\\d+(\\.\\d+)?)_(\\d(\\.\\d+)?)'\n",
    "    for shf in case_folders:\n",
    "        sh_fname = os.path.basename(shf)\n",
    "#         print(sh_fname)\n",
    "        m = re.match(pat, sh_fname)\n",
    "#         print(m.group(3))\n",
    "        w = np.array([m.group(i) for i in [1,3,5]])\n",
    "        list_weights.append(w)\n",
    "    return np.stack(list_weights, axis=0)"
   ]
  },
  {
   "cell_type": "code",
   "execution_count": null,
   "metadata": {},
   "outputs": [],
   "source": [
    "np_str_weights = get_candidate_weights(root_results_folder)\n",
    "np_str_weights"
   ]
  },
  {
   "cell_type": "code",
   "execution_count": null,
   "metadata": {},
   "outputs": [],
   "source": [
    "def get_output_img(root_results_folder, weights, verbose=False):\n",
    "    \"\"\"\n",
    "    Return the output image (assume there is only one) given \n",
    "    one vector of input weights.\n",
    "    \n",
    "    * weights: a numpy array with one dimension. Each value is a string.\n",
    "    \"\"\"\n",
    "    subfolder = 'face_interpolation_test_{}_{}_{}'.format(*weights)\n",
    "    case_path = os.path.join(root_results_folder, subfolder )\n",
    "    subfolders = glob.glob(case_path)\n",
    "    subfolder2 = glob.glob(subfolders[0] + '/*')\n",
    "    \n",
    "    output_folder = os.path.join(subfolder2[0], 'output_images')\n",
    "    iter_fpaths = glob.glob(output_folder + '/*')\n",
    "#     print([os.path.basename(fname) for fname in iter_fpaths])\n",
    "    arg = np.argsort([int(os.path.basename(fname)) for fname in iter_fpaths])\n",
    "    # highest iteration\n",
    "    last_iter_folder = iter_fpaths[arg[-1]]\n",
    "    out_fpaths = glob.glob(last_iter_folder + '/*')\n",
    "    # expect only one output image\n",
    "    assert len(out_fpaths) == 1\n",
    "    \n",
    "    # load the image\n",
    "    if verbose:\n",
    "        print('Loading output image: {}'.format(out_fpaths[0]))\n",
    "    return skimage.io.imread(out_fpaths[0])\n",
    "    "
   ]
  },
  {
   "cell_type": "code",
   "execution_count": null,
   "metadata": {
    "scrolled": true
   },
   "outputs": [],
   "source": [
    "# Test get_output_img()\n",
    "img = get_output_img(root_results_folder, np_str_weights[0])\n",
    "plt.imshow(img)"
   ]
  },
  {
   "cell_type": "code",
   "execution_count": null,
   "metadata": {},
   "outputs": [],
   "source": [
    "# load all output images. Each output image corresponds to one input weight vector\n",
    "list_out_imgs = []\n",
    "for i, weights in enumerate(np_str_weights):\n",
    "    loaded = get_output_img(root_results_folder, weights)\n",
    "    list_out_imgs.append(loaded)\n",
    "    \n",
    "# stack\n",
    "out_imgs = np.stack(list_out_imgs, axis=0)"
   ]
  },
  {
   "cell_type": "code",
   "execution_count": null,
   "metadata": {
    "scrolled": true
   },
   "outputs": [],
   "source": [
    "# show input images\n",
    "print('Input images')\n",
    "for i in range(in_imgs.shape[0]):\n",
    "    plt.figure()\n",
    "    plt.imshow(in_imgs[i])"
   ]
  },
  {
   "cell_type": "code",
   "execution_count": null,
   "metadata": {
    "scrolled": true
   },
   "outputs": [],
   "source": [
    "for i in range(out_imgs.shape[0]):\n",
    "    oimg = out_imgs[i]\n",
    "    plt.figure(figsize=(3,3))\n",
    "    plt.imshow(oimg)\n",
    "    Wi = np_str_weights[i]\n",
    "    plt.title('in weights: {}, {}, {}'.format(Wi[0], Wi[1], Wi[2]))"
   ]
  },
  {
   "cell_type": "code",
   "execution_count": null,
   "metadata": {},
   "outputs": [],
   "source": [
    "def proj2d(x):\n",
    "    \"\"\"\n",
    "    x is a vector of 3 coordinates in the 2-dimensional simplex\n",
    "    Project onto the equilateral triangle on 2d where the lower \n",
    "    left corner is at the origin. All three sides have unit length.\n",
    "    \n",
    "    \"\"\"\n",
    "    from functools import reduce\n",
    "    xcol = x[:, np.newaxis]\n",
    "    v1 = np.array([[-1, 1, 0.0]]).T\n",
    "    v2 = np.array([[-1, 0.0, 1]]).T\n",
    "#     A = np.hstack((v1, v2))/np.sqrt(2)\n",
    "    A = np.hstack((v1, v2))\n",
    "    ATA = A.T.dot(A)\n",
    "    e1 = np.array([[1, 0, 0.0]]).T\n",
    "#     print(A.T)\n",
    "    P = np.linalg.inv(ATA).dot(A.T)\n",
    "#     print(P)\n",
    "    pro = P.dot( xcol-e1)\n",
    "    \n",
    "#     print(pro)\n",
    "    # reconstruct with a new 2d axes\n",
    "    e1_2d = np.array([[1, 0]]).T\n",
    "    r2 = np.array([[np.cos(np.pi/3), np.sin(np.pi/3)]]).T\n",
    "    R = np.hstack((e1_2d, r2))\n",
    "#     print(R.dot(P))\n",
    "#     return pro\n",
    "    return R.dot(pro)\n",
    "#     return np.array([[-0.5*(x[0]-1)+x[1]/2.0], [-0.28868*(x[0]-1+x[1])+0.57735*x[2]]])"
   ]
  },
  {
   "cell_type": "code",
   "execution_count": null,
   "metadata": {},
   "outputs": [],
   "source": [
    "w3d = np.array([4, 2, 2])/8.0\n",
    "proj2d(w3d)"
   ]
  },
  {
   "cell_type": "code",
   "execution_count": null,
   "metadata": {},
   "outputs": [],
   "source": [
    "candidate_weights = np_str_weights.astype(np.float64)"
   ]
  },
  {
   "cell_type": "code",
   "execution_count": null,
   "metadata": {},
   "outputs": [],
   "source": [
    "def plot_triangle(in_imgs, candidate_weights,  out_imgs, img_zoom=0.25,\n",
    "                 axis_margin=0.15, figsize=(8,8), verbose=False, \n",
    "                  input_imgs_distance=0.12, plot_triangle=True):\n",
    "    \"\"\"\n",
    "    img_zoom: size of the images. Higher = larger.\n",
    "    input_imgs_distance: distance to add to the input images at the 3 corners so that \n",
    "        they are further away in the directions opposite to the center\n",
    "    \"\"\"\n",
    "    \n",
    "    from matplotlib.offsetbox import (OffsetImage, AnnotationBbox)\n",
    "\n",
    "    fig = plt.figure(figsize=figsize)\n",
    "    ax = fig.subplots()\n",
    "    \n",
    "    # Fix the display limits to see everything\n",
    "    ax.set_xlim(0-axis_margin, 1.0+axis_margin)\n",
    "    ax.set_ylim(0-axis_margin, np.sqrt(1**2 - 0.5**2)+axis_margin)\n",
    "    ax.set_aspect('equal')\n",
    "#     ax.axis('off')\n",
    "\n",
    "    # draw triangle\n",
    "    if plot_triangle:\n",
    "        plt.plot([0, 0.5], [0, np.sqrt(3/4.0)], 'k')\n",
    "        plt.plot([0.5, 1], [np.sqrt(3/4.0), 0], 'k')\n",
    "        plt.plot([0, 1], [0, 0], 'k')\n",
    "    \n",
    "\n",
    "    # Go through each weight vector and plot the output image\n",
    "    for i in range(candidate_weights.shape[0]):\n",
    "        Wi = candidate_weights[i]\n",
    "        Wi_2d = proj2d(Wi)\n",
    "\n",
    "        # output image\n",
    "        oimg = out_imgs[i]\n",
    "        imagebox = OffsetImage(oimg, zoom=img_zoom)\n",
    "        imagebox.image.axes = ax\n",
    "\n",
    "        xy = (Wi_2d[0, 0], Wi_2d[1, 0])\n",
    "        if verbose:\n",
    "            print('({:.2f}, {:.2f}, {:.2f}) |-> ({:.2f}, {:.2f})'.format(\n",
    "                Wi[0], Wi[1], Wi[2],\n",
    "                xy[0], xy[1]))\n",
    "        ab = AnnotationBbox(imagebox, xy,\n",
    "                            xybox=(1, -1),\n",
    "        #                     xycoords='data',\n",
    "                            boxcoords=\"offset points\",\n",
    "                            pad=0.0,\n",
    "                            arrowprops=dict(\n",
    "                                arrowstyle=\"->\",\n",
    "                                connectionstyle=\"angle,angleA=0,angleB=90,rad=3\")\n",
    "#                                 connectionstyle=\"angle,rad=3\")\n",
    "                            )\n",
    "        ax.add_artist(ab)\n",
    "        # annotate with text showing weights\n",
    "#         ax.annotate(\n",
    "#             '{}'.format(Wi), \n",
    "#             xy=Wi_2d.reshape(-1)+np.array([0,0.07]), \n",
    "#             fontsize=10)\n",
    "\n",
    "    # plot the three input images at the three corners of the triangle\n",
    "    # Do this at the last step so that the input images are on top.\n",
    "    center = np.array([0.5, np.sqrt(3/4.0)/2])\n",
    "    corners = np.array([\n",
    "        [0, 0], [1, 0], [0.5, np.sqrt(3/4.0)]\n",
    "    ])\n",
    "    for i in range(3):\n",
    "        # direction to push away from the center.\n",
    "        dir_away =( corners[i] - center)\n",
    "        dir_away /= np.linalg.norm(dir_away)\n",
    "        dir_away *= input_imgs_distance\n",
    "        \n",
    "        imbox = OffsetImage(in_imgs[i], zoom=img_zoom)\n",
    "        imbox.image.axes = ax\n",
    "        ab = AnnotationBbox(imbox, corners[i]+dir_away,\n",
    "                    xybox=(1, -1),\n",
    "#                     xycoords='data',\n",
    "                    boxcoords=\"offset points\",\n",
    "                    pad=0.3,\n",
    "                    arrowprops=dict(\n",
    "                        arrowstyle=\"->\",\n",
    "                        connectionstyle=\"angle,angleA=0,angleB=90,rad=3\")\n",
    "                    )\n",
    "        ax.add_artist(ab)\n",
    "        \n",
    "        # annotate text x1, x2, x3\n",
    "        ax.annotate('x{}'.format(i+1), xy=corners[i], fontsize=12)\n",
    "\n",
    "    return ax"
   ]
  },
  {
   "cell_type": "code",
   "execution_count": null,
   "metadata": {},
   "outputs": [],
   "source": [
    "ax = plot_triangle(\n",
    "    in_imgs, candidate_weights, out_imgs, img_zoom=0.28, \n",
    "    figsize=(13,13), axis_margin=0.2, input_imgs_distance=0.12,\n",
    "    plot_triangle=False\n",
    ")\n",
    "# ax = plot_triangle(\n",
    "#     in_imgs, candidate_weights, out_imgs, img_zoom=0.24, \n",
    "#     figsize=(11,11), axis_margin=0.2, input_imgs_distance=0.12,\n",
    "#     plot_triangle=False\n",
    "# )\n",
    "ax.axis('off');\n",
    "\n",
    "save_fname = 'm3_triangle_{}'.format(case_name)\n",
    "plt.savefig(save_fname+'.pdf', bbox_inches='tight', dpi=300)\n",
    "plt.savefig(save_fname+'.png', bbox_inches='tight', dpi=300)"
   ]
  },
  {
   "cell_type": "markdown",
   "metadata": {},
   "source": [
    "## Candidate list of weight vectors"
   ]
  },
  {
   "cell_type": "code",
   "execution_count": null,
   "metadata": {},
   "outputs": [],
   "source": [
    "def plot_weights_triangle(points3d):\n",
    "    projCW = np.hstack([proj2d(w) for w in points3d]).T\n",
    "    # draw triangle\n",
    "    plt.figure(figsize=(6,6))\n",
    "    plt.plot([0, 0.5], [0, np.sqrt(3/4.0)], 'k')\n",
    "    plt.plot([0.5, 1], [np.sqrt(3/4.0), 0], 'k')\n",
    "    plt.plot([0, 1], [0, 0], 'k')\n",
    "\n",
    "    for i in range(projCW.shape[0]):\n",
    "        wi = projCW[i]\n",
    "        plt.plot(wi[0], wi[1], 'bo')\n",
    "\n",
    "    plt.axis('square');"
   ]
  },
  {
   "cell_type": "code",
   "execution_count": null,
   "metadata": {},
   "outputs": [],
   "source": [
    "def recursive_partition_candidate_weights(depth, corners=None):\n",
    "    \"\"\"\n",
    "    depth: depth of the recursion (subpartitioning)\n",
    "    corners: 3x3 numpy array where each row specifies one corner (in 3d)\n",
    "    \"\"\"\n",
    "    if corners is None:\n",
    "        corners = np.eye(3)\n",
    "        \n",
    "    if depth <= 1:\n",
    "        return corners\n",
    "    \n",
    "    C = corners\n",
    "    # find 3 mid points on the three edges\n",
    "    m0 = (C[0]+C[1])/2.0\n",
    "    m1 = (C[0]+C[2])/2.0\n",
    "    m2 = (C[1]+C[2])/2.0\n",
    "    mid = np.mean(C, 0)\n",
    "    M = np.vstack([m0, m1, m2])\n",
    "    \n",
    "    if depth == 2:\n",
    "        return np.vstack([C, M])\n",
    "    \n",
    "    # subpartitioning via recursion\n",
    "    C0 = np.vstack([C[0], m0, m1])\n",
    "    W0 = recursive_partition_candidate_weights(depth-1, C0)\n",
    "    \n",
    "    C1 = np.vstack([m0, C[1], m2])\n",
    "    W1 = recursive_partition_candidate_weights(depth-1, C1)\n",
    "    \n",
    "    C2 = np.vstack([m1, m2, C[2]])\n",
    "    W2 = recursive_partition_candidate_weights(depth-1, C2)\n",
    "    \n",
    "    # middle region\n",
    "    Wm = recursive_partition_candidate_weights(depth-1, M)\n",
    "    allpoints = np.vstack([C, M, W0, W1, W2, Wm])\n",
    "    return allpoints\n",
    "\n",
    "def remove_duplicate_rows(A, tol=1e-6):\n",
    "    import scipy\n",
    "    D = scipy.spatial.distance_matrix(A, A)\n",
    "    n = A.shape[0]\n",
    "    toremove = set()\n",
    "    for i in range(n):\n",
    "        ind = np.where(D[i, (i+1):] <= tol)[0]\n",
    "        toremove.update(ind+i+1)\n",
    "    tokeep = set(range(n)) - toremove\n",
    "    return A[np.array(list(tokeep))]\n",
    "    \n",
    "def gen_candidate_weights(depth):\n",
    "    C = recursive_partition_candidate_weights(depth)\n",
    "    # remove duplicates\n",
    "    return remove_duplicate_rows(C)"
   ]
  },
  {
   "cell_type": "code",
   "execution_count": null,
   "metadata": {},
   "outputs": [],
   "source": [
    "weights = gen_candidate_weights(depth=4)\n",
    "plot_weights_triangle(weights)"
   ]
  },
  {
   "cell_type": "code",
   "execution_count": null,
   "metadata": {},
   "outputs": [],
   "source": [
    "for W in weights:\n",
    "    print('{}/{}/{},'.format(W[0], W[1], W[2]))"
   ]
  },
  {
   "cell_type": "code",
   "execution_count": null,
   "metadata": {},
   "outputs": [],
   "source": []
  },
  {
   "cell_type": "code",
   "execution_count": null,
   "metadata": {},
   "outputs": [],
   "source": []
  },
  {
   "cell_type": "code",
   "execution_count": null,
   "metadata": {},
   "outputs": [],
   "source": []
  },
  {
   "cell_type": "code",
   "execution_count": null,
   "metadata": {},
   "outputs": [],
   "source": []
  },
  {
   "cell_type": "code",
   "execution_count": null,
   "metadata": {},
   "outputs": [],
   "source": []
  },
  {
   "cell_type": "code",
   "execution_count": null,
   "metadata": {},
   "outputs": [],
   "source": []
  },
  {
   "cell_type": "code",
   "execution_count": null,
   "metadata": {},
   "outputs": [],
   "source": []
  },
  {
   "cell_type": "code",
   "execution_count": null,
   "metadata": {},
   "outputs": [],
   "source": []
  }
 ],
 "metadata": {
  "kernelspec": {
   "display_name": "Python 3",
   "language": "python",
   "name": "python3"
  },
  "language_info": {
   "codemirror_mode": {
    "name": "ipython",
    "version": 3
   },
   "file_extension": ".py",
   "mimetype": "text/x-python",
   "name": "python",
   "nbconvert_exporter": "python",
   "pygments_lexer": "ipython3",
   "version": "3.6.6"
  }
 },
 "nbformat": 4,
 "nbformat_minor": 2
}
